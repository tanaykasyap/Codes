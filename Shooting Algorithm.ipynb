{
 "cells": [
  {
   "cell_type": "code",
   "execution_count": 3,
   "id": "caa5fd8c",
   "metadata": {},
   "outputs": [
    {
     "name": "stderr",
     "output_type": "stream",
     "text": [
      "C:\\Users\\tanay\\AppData\\Local\\Temp\\ipykernel_44896\\1666524754.py:76: RuntimeWarning: divide by zero encountered in divide\n",
      "  srate = 1 - c / (A * ksol ** alpha)\n"
     ]
    }
   ],
   "source": [
    " import numpy as np\n",
    "\n",
    "# Parameter values\n",
    "delta = 0.08\n",
    "alpha = 0.3\n",
    "beta = 0.96\n",
    "sigma = 1.01\n",
    "lambda_val = 0.1\n",
    "T = 200\n",
    "A = 1\n",
    "\n",
    "# Steady state capital stock and initial condition\n",
    "kss = ((1 / beta - (1 - delta)) / A / alpha) ** (1 / (alpha - 1))\n",
    "k0 = lambda_val * kss\n",
    "\n",
    "# Solution for path ksol(t)\n",
    "ksol = np.zeros(T)\n",
    "ksol[0] = k0\n",
    "\n",
    "for t in range(1, T):\n",
    "    kguess = np.zeros(T)\n",
    "    kguess[0] = ksol[t - 1]\n",
    "\n",
    "    # Step 1: Set boundaries for interval that ksol(t) must lie in\n",
    "    kmin = ksol[t - 1]\n",
    "    kmax = kss\n",
    "\n",
    "    # Step 2: Pick a point in the interval as a hypothetical choice for k(t)\n",
    "    while abs(kmax - kmin) > 0.00000015 * kss:\n",
    "        kn = 0.5 * (kmin + kmax)\n",
    "        kguess[1] = kn\n",
    "\n",
    "        # Step 3: Determine the rest of the path given the choice for k(t)\n",
    "        stop = 0\n",
    "        i = 1\n",
    "\n",
    "        while stop < 1:\n",
    "            i += 1\n",
    "\n",
    "            # Implied value for kguess(i)\n",
    "            rhs = A * kguess[i - 1] ** alpha + (1 - delta) * kguess[i - 1]\n",
    "            kguess[i] = rhs - (beta * (A * alpha * kguess[i - 1] ** (alpha - 1) + (1 - delta))) ** (1 / sigma) * (\n",
    "                    rhs - kguess[i - 1])\n",
    "\n",
    "            # Check to see if kguess is going to zero (i.e., did we enter region I)\n",
    "            if kguess[i] <= kguess[i - 1]:\n",
    "                kmin = kn\n",
    "                stop = 1\n",
    "            else:\n",
    "                kguess[i] = kguess[i]\n",
    "\n",
    "            # Check to see if kguess is going beyond kss (i.e., did we enter region III)\n",
    "            if kguess[i] > kss:\n",
    "                kmax = kn\n",
    "                stop = 1\n",
    "            else:\n",
    "                kguess[i] = kguess[i]\n",
    "\n",
    "    # We have now determined (within the limits of our approximation) the next value of k(t)\n",
    "    ksol[t] = kguess[1]\n",
    "\n",
    "# We now know the whole sequence ksol(t). We can also determine the sequences for consumption and utility\n",
    "c = A * ksol[:-1] ** alpha + (1 - delta) * ksol[:-1] - ksol[1:]\n",
    "c = np.append(c, c[-1])  # To match MATLAB indexing for c(T)\n",
    "\n",
    "# Correct for cases where c is negative or zero\n",
    "c = np.maximum(c, 1e-8)\n",
    "\n",
    "uv = (c ** (1 - sigma)) / (1 - sigma)\n",
    "betav = np.zeros(T)\n",
    "betav[0] = 1\n",
    "for j in range(1, T):\n",
    "    betav[j] = beta * betav[j - 1]\n",
    "\n",
    "utot = np.sum(betav * uv)\n",
    "srate = 1 - c / (A * ksol ** alpha)\n",
    "\n",
    "# Print or use the results as needed\n"
   ]
  },
  {
   "cell_type": "code",
   "execution_count": null,
   "id": "32acc10a",
   "metadata": {},
   "outputs": [],
   "source": []
  }
 ],
 "metadata": {
  "kernelspec": {
   "display_name": "Python 3 (ipykernel)",
   "language": "python",
   "name": "python3"
  },
  "language_info": {
   "codemirror_mode": {
    "name": "ipython",
    "version": 3
   },
   "file_extension": ".py",
   "mimetype": "text/x-python",
   "name": "python",
   "nbconvert_exporter": "python",
   "pygments_lexer": "ipython3",
   "version": "3.11.7"
  }
 },
 "nbformat": 4,
 "nbformat_minor": 5
}
